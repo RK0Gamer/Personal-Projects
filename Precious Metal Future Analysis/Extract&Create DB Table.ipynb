{
 "cells": [
  {
   "cell_type": "code",
   "execution_count": 1,
   "metadata": {},
   "outputs": [],
   "source": [
    "import datetime as dt\n",
    "import glob\n",
    "import json\n",
    "import pandas as pd\n",
    "import pyodbc\n",
    "\n",
    "from yahoo_fin.stock_info import get_data\n"
   ]
  },
  {
   "cell_type": "markdown",
   "metadata": {},
   "source": [
    "### Extract and Preprocess Data"
   ]
  },
  {
   "cell_type": "code",
   "execution_count": 4,
   "metadata": {},
   "outputs": [],
   "source": [
    "# Dictionary mapping ticker to corresponding metal name\n",
    "ticker_dict = {'GC=F':'gold', 'HG=F':'copper', 'SI=F':'silver', 'PL=F':'platinum', 'PA=F':'palladium'}"
   ]
  },
  {
   "cell_type": "code",
   "execution_count": 8,
   "metadata": {},
   "outputs": [],
   "source": [
    "# Return dataframe contain data extracted from Yahoo Finance for specified ticker from 01/01/2000 to current date\n",
    "def extract_data(ticker, start_date=\"01/01/2000\", end_date=dt.date.today()):\n",
    "    data = get_data(ticker, start_date=start_date, end_date=end_date, index_as_date = False, interval=\"1d\")\n",
    "    return pd.DataFrame(data)\n",
    "\n",
    "# Remove null, duplicates, typecast and unneeded columns. Rename columns\n",
    "def preprocess(df):\n",
    "    df.dropna(inplace=True)\n",
    "    df.drop_duplicates(subset=['date'], inplace=True)\n",
    "    df['ticker'] = metals\n",
    "    df['volume'] = df['volume'].astype('int')\n",
    "    df.drop(['adjclose'], inplace=True, axis=1)\n",
    "    df.rename(columns={'ticker':'name', 'open':'opening_price', 'high':'highest_price', 'low':'lowest_price', 'close':'closing_price', 'volume':'transaction_count'}, inplace=True)\n",
    "    return df"
   ]
  },
  {
   "cell_type": "code",
   "execution_count": 9,
   "metadata": {},
   "outputs": [],
   "source": [
    "# For every ticker key in ticker_dict create a pandas dataframe value named after the metal\n",
    "# Ex. copper, gold, etc\n",
    "df_dict = {}\n",
    "for tickers in ticker_dict.keys():\n",
    "    df_dict[ticker_dict[tickers]] = extract_data(ticker=tickers)\n",
    "    "
   ]
  },
  {
   "cell_type": "code",
   "execution_count": 11,
   "metadata": {},
   "outputs": [],
   "source": [
    "# For every key values pair in df_dict perform preprocess function and data as .csv file\n",
    "for metals in df_dict.keys():\n",
    "    processed_df = preprocess(df_dict[metals])\n",
    "    processed_df.to_csv(f'future_data/{metals}.csv', index=False)\n"
   ]
  },
  {
   "cell_type": "markdown",
   "metadata": {},
   "source": [
    "### Database Table Creation"
   ]
  },
  {
   "cell_type": "code",
   "execution_count": 12,
   "metadata": {},
   "outputs": [],
   "source": [
    "# Collect path of all relevant csv file in one place\n",
    "future_folder = glob.glob('future_data/*.csv')\n",
    "\n",
    "# Load in secret file containing database connection credential. Connect to the database\n",
    "secret = json.load(open('secret.json'))\n",
    "conn = pyodbc.connect(DRIVER='{SQL Server}', \n",
    "                      SERVER=secret['server'], \n",
    "                      DATABASE=secret['database'], \n",
    "                      UID=secret['username'], \n",
    "                      PWD=secret['password'],\n",
    "                      Trusted_connection='no')\n",
    "cursor = conn.cursor()"
   ]
  },
  {
   "cell_type": "code",
   "execution_count": 13,
   "metadata": {},
   "outputs": [],
   "source": [
    "# Functions to create table if didn't exist previously\n",
    "def create_table(metal_name):\n",
    "  cursor.execute(\n",
    "  f\"\"\"\n",
    "  ALTER DATABASE Metal_Future SET RECURSIVE_TRIGGERS OFF\n",
    "\n",
    "  IF OBJECT_ID(N'Metal_Future.dbo.{metal_name}', N'U') IS NULL\n",
    "    CREATE TABLE Metal_Future.dbo.{metal_name} (\n",
    "    id INT IDENTITY(1,1) PRIMARY KEY,\n",
    "    [date] DATE,\n",
    "    name VARCHAR(20),\n",
    "    opening_price FLOAT,\n",
    "    closing_price FLOAT,\n",
    "    highest_price FLOAT,\n",
    "    lowest_price FLOAT,\n",
    "    transaction_count INT)\n",
    "    \"\"\")\n",
    "  conn.commit()\n",
    "\n",
    "# Function to create a lookup table mapping ticker and metal\n",
    "def create_lookup_table():\n",
    "    cursor.execute(\n",
    "    \"\"\"\n",
    "    IF OBJECT_ID(N'Metal_Future.dbo.ticker_name', N'U') IS NULL\n",
    "        CREATE TABLE Metal_Future.dbo.ticker_name (\n",
    "        ticker VARCHAR(8) PRIMARY KEY,\n",
    "        name VARCHAR(20))\n",
    "    \"\"\")\n",
    "    conn.commit()\n",
    "\n",
    "# Function to insert ticker name and metal name in lookup table\n",
    "def insert_lookup_table(ticker_dict):\n",
    "    for keys in ticker_dict.keys():\n",
    "        cursor.execute(\n",
    "            f\"\"\"\n",
    "            INSERT INTO Metal_Future.dbo.ticker_name (ticker, name)\n",
    "            VALUES (?, ?)\n",
    "            \"\"\",\n",
    "            keys, ticker_dict[keys]\n",
    "            )\n",
    "        conn.commit()\n",
    "\n",
    "# Check a row to see if highest col contains the highest value. If not, replace highest col value with the higher value between opening and closing col. \n",
    "def validate_highest(highest, opening, closing):\n",
    "    if highest < opening and opening >= closing:\n",
    "        return opening\n",
    "    elif highest < closing and opening < closing:\n",
    "        return closing\n",
    "    else:\n",
    "        return highest\n",
    "    \n",
    "# Check a row to see if highest col contains the lowest value. If not, replace lowest col value with the lower value between opening and closing col. \n",
    "def validate_lowest(lowest, opening, closing):\n",
    "    if lowest > opening and opening <= closing:\n",
    "        return opening\n",
    "    elif lowest > closing and opening > closing:\n",
    "        return closing\n",
    "    else:\n",
    "        return lowest\n",
    "\n",
    "# Function to insert all rows of specified dataframe into a table. All validation steps are perform before insert.\n",
    "def validate_and_insert(df, metal_name):\n",
    "       for row in df.itertuples():\n",
    "              cursor.execute(f\"\"\"\n",
    "                     INSERT INTO Metal_Future.dbo.{metal_name} (date, name, opening_price, closing_price, highest_price, lowest_price, transaction_count)\n",
    "                     VALUES (?, ?, ?, ?, ?, ?, ?)\n",
    "                     \"\"\",\n",
    "                     row.date, row.name, row.opening_price, row.closing_price, validate_highest(row.highest_price, row.opening_price, row.closing_price), validate_lowest(row.lowest_price, row.opening_price, row.closing_price), row.transaction_count\n",
    "                     )\n",
    "       conn.commit()\n"
   ]
  },
  {
   "cell_type": "code",
   "execution_count": 14,
   "metadata": {},
   "outputs": [],
   "source": [
    "# Create and insert lookup table in database\n",
    "create_lookup_table()\n",
    "insert_lookup_table(ticker_dict)"
   ]
  },
  {
   "cell_type": "code",
   "execution_count": 15,
   "metadata": {},
   "outputs": [],
   "source": [
    "# For each csv within future_folder, create a table and insert data entries into database\n",
    "for csv in future_folder:\n",
    "    df = pd.read_csv(csv)\n",
    "    metal_name = csv.split('\\\\')[1].split('.')[0]\n",
    "    create_table(metal_name)\n",
    "    validate_and_insert(df, metal_name)"
   ]
  }
 ],
 "metadata": {
  "kernelspec": {
   "display_name": "base",
   "language": "python",
   "name": "python3"
  },
  "language_info": {
   "codemirror_mode": {
    "name": "ipython",
    "version": 3
   },
   "file_extension": ".py",
   "mimetype": "text/x-python",
   "name": "python",
   "nbconvert_exporter": "python",
   "pygments_lexer": "ipython3",
   "version": "3.9.7"
  },
  "orig_nbformat": 4
 },
 "nbformat": 4,
 "nbformat_minor": 2
}
